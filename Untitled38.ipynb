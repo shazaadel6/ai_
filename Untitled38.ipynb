{
  "nbformat": 4,
  "nbformat_minor": 0,
  "metadata": {
    "colab": {
      "provenance": [],
      "authorship_tag": "ABX9TyOHKuSlj1smWwvza+xhfajH",
      "include_colab_link": true
    },
    "kernelspec": {
      "name": "python3",
      "display_name": "Python 3"
    },
    "language_info": {
      "name": "python"
    }
  },
  "cells": [
    {
      "cell_type": "markdown",
      "metadata": {
        "id": "view-in-github",
        "colab_type": "text"
      },
      "source": [
        "<a href=\"https://colab.research.google.com/github/shazaadel6/ai_/blob/main/Untitled38.ipynb\" target=\"_parent\"><img src=\"https://colab.research.google.com/assets/colab-badge.svg\" alt=\"Open In Colab\"/></a>"
      ]
    },
    {
      "cell_type": "code",
      "source": [
        "!pip install gradio pandas rapidfuzz PyPDF2 python-docx -q\n",
        "\n",
        "import gradio as gr\n",
        "import pandas as pd\n",
        "import re\n",
        "from rapidfuzz import fuzz\n",
        "from PyPDF2 import PdfReader\n",
        "from docx import Document\n",
        "\n",
        "# --- دوال قراءة الملفات ---\n",
        "def read_any_file(file):\n",
        "    \"\"\"يقرأ CSV, Excel, Word, PDF\"\"\"\n",
        "    if file.name.endswith(\".csv\"):\n",
        "        return pd.read_csv(file.name)\n",
        "    elif file.name.endswith((\".xls\", \".xlsx\")):\n",
        "        return pd.read_excel(file.name)\n",
        "    elif file.name.endswith(\".pdf\"):\n",
        "        reader = PdfReader(file)\n",
        "        text = \"\\n\".join(page.extract_text() or \"\" for page in reader.pages)\n",
        "        data = [re.split(r\"\\s{2,}|\\t|,|;\", line.strip()) for line in text.split(\"\\n\") if line.strip()]\n",
        "        return pd.DataFrame(data)\n",
        "    elif file.name.endswith(\".docx\"):\n",
        "        doc = Document(file)\n",
        "        lines = [p.text.strip() for p in doc.paragraphs if p.text.strip()]\n",
        "        data = [re.split(r\"\\s{2,}|\\t|,|;\", line) for line in lines]\n",
        "        return pd.DataFrame(data)\n",
        "    else:\n",
        "        raise ValueError(f\"⚠️ نوع الملف {file.name} غير مدعوم.\")\n",
        "\n",
        "# --- دالة الفحص الذكي ---\n",
        "def smart_data_check(files):\n",
        "    if not files:\n",
        "        return \"❌ لم يتم رفع أي ملف.\", None, None\n",
        "\n",
        "    all_data = []\n",
        "    for f in files:\n",
        "        try:\n",
        "            df = read_any_file(f)\n",
        "            df[\"source\"] = f.name\n",
        "            all_data.append(df)\n",
        "        except Exception as e:\n",
        "            return f\"❌ خطأ أثناء قراءة {f.name}: {e}\", None, None\n",
        "\n",
        "    df = pd.concat(all_data, ignore_index=True)\n",
        "    df = df.fillna(\"\").astype(str)\n",
        "\n",
        "    # ✅ التحقق من القيم المكررة تمامًا\n",
        "    duplicated_rows = df[df.duplicated(keep=False)]\n",
        "\n",
        "    # ✅ التحقق من القيم المتشابهة (بنسبة تشابه عالية)\n",
        "    flat_values = df.drop(columns=[\"source\"]).values.flatten()\n",
        "    similar_pairs = []\n",
        "    for i in range(len(flat_values)):\n",
        "        for j in range(i + 1, len(flat_values)):\n",
        "            score = fuzz.token_sort_ratio(flat_values[i], flat_values[j])\n",
        "            if score > 90 and flat_values[i] != \"\" and flat_values[j] != \"\":\n",
        "                similar_pairs.append((flat_values[i], flat_values[j], score))\n",
        "\n",
        "    if duplicated_rows.empty and not similar_pairs:\n",
        "        return \"✅ البيانات سليمة 100% - لا يوجد تكرار أو تشابه.\", \"\", \"\"\n",
        "\n",
        "    result_duplicates = (\n",
        "        \"✅ لا توجد صفوف مكررة.\" if duplicated_rows.empty\n",
        "        else duplicated_rows.to_markdown(index=False)\n",
        "    )\n",
        "\n",
        "    result_similar = (\n",
        "        \"✅ لا توجد أسماء أو قيم متشابهة.\"\n",
        "        if not similar_pairs\n",
        "        else \"\\n\".join([f\" - {a} ↔ {b} ({s}%)\" for a, b, s in similar_pairs])\n",
        "    )\n",
        "\n",
        "    summary = f\"\"\"\n",
        "📊 **تم فحص {len(df)} سجل**\n",
        "❌ عدد الصفوف المكررة: {len(duplicated_rows)}\n",
        "⚠️ عدد القيم المتشابهة: {len(similar_pairs)}\n",
        "\"\"\"\n",
        "    return summary, result_duplicates, result_similar\n",
        "\n",
        "\n",
        "# --- واجهة Gradio ---\n",
        "interface = gr.Interface(\n",
        "    fn=smart_data_check,\n",
        "    inputs=gr.File(label=\"📤 ارفع أي ملف بيانات (CSV, Excel, PDF, Word)\", file_count=\"multiple\"),\n",
        "    outputs=[\n",
        "        gr.Textbox(label=\"📋 النتيجة العامة\"),\n",
        "        gr.Textbox(label=\"❌ صفوف مكررة\"),\n",
        "        gr.Textbox(label=\"⚠️ بيانات متشابهة جدًا\"),\n",
        "    ],\n",
        "    title=\"🤖 نظام التحقق الذكي من البيانات\",\n",
        "    description=\"يراجع أي ملف (CSV, Excel, PDF, Word) لاكتشاف البيانات المكررة أو المتشابهة، ويؤكد إذا كانت سليمة تمامًا ✅\",\n",
        ")\n",
        "\n",
        "interface.launch(share=False)\n"
      ],
      "metadata": {
        "colab": {
          "base_uri": "https://localhost:8080/",
          "height": 599
        },
        "id": "HLBVnLnAiMYF",
        "outputId": "e5eced0a-2d2e-48b9-e4b0-7827a82d3419"
      },
      "execution_count": 12,
      "outputs": [
        {
          "output_type": "stream",
          "name": "stdout",
          "text": [
            "Colab notebook detected. To show errors in colab notebook, set debug=True in launch()\n",
            "Note: opening Chrome Inspector may crash demo inside Colab notebooks.\n",
            "* To create a public link, set `share=True` in `launch()`.\n"
          ]
        },
        {
          "output_type": "display_data",
          "data": {
            "text/plain": [
              "<IPython.core.display.Javascript object>"
            ],
            "application/javascript": [
              "(async (port, path, width, height, cache, element) => {\n",
              "                        if (!google.colab.kernel.accessAllowed && !cache) {\n",
              "                            return;\n",
              "                        }\n",
              "                        element.appendChild(document.createTextNode(''));\n",
              "                        const url = await google.colab.kernel.proxyPort(port, {cache});\n",
              "\n",
              "                        const external_link = document.createElement('div');\n",
              "                        external_link.innerHTML = `\n",
              "                            <div style=\"font-family: monospace; margin-bottom: 0.5rem\">\n",
              "                                Running on <a href=${new URL(path, url).toString()} target=\"_blank\">\n",
              "                                    https://localhost:${port}${path}\n",
              "                                </a>\n",
              "                            </div>\n",
              "                        `;\n",
              "                        element.appendChild(external_link);\n",
              "\n",
              "                        const iframe = document.createElement('iframe');\n",
              "                        iframe.src = new URL(path, url).toString();\n",
              "                        iframe.height = height;\n",
              "                        iframe.allow = \"autoplay; camera; microphone; clipboard-read; clipboard-write;\"\n",
              "                        iframe.width = width;\n",
              "                        iframe.style.border = 0;\n",
              "                        element.appendChild(iframe);\n",
              "                    })(7864, \"/\", \"100%\", 500, false, window.element)"
            ]
          },
          "metadata": {}
        },
        {
          "output_type": "execute_result",
          "data": {
            "text/plain": []
          },
          "metadata": {},
          "execution_count": 12
        }
      ]
    }
  ]
}